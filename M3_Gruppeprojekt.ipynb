{
  "nbformat": 4,
  "nbformat_minor": 0,
  "metadata": {
    "colab": {
      "name": "M3_Gruppeprojekt",
      "provenance": [],
      "collapsed_sections": []
    },
    "kernelspec": {
      "name": "python3",
      "display_name": "Python 3"
    },
    "accelerator": "GPU"
  },
  "cells": [
    {
      "cell_type": "markdown",
      "metadata": {
        "id": "zRItYpBUAqlN",
        "colab_type": "text"
      },
      "source": [
        "#Tags for Likes \n",
        "---\n",
        "The aim of this project is to make a deep learning model that predicts if the number of likes are above or under the average based on hashtags. \n",
        "\n"
      ]
    },
    {
      "cell_type": "markdown",
      "metadata": {
        "id": "ONsFDnrqB26o",
        "colab_type": "text"
      },
      "source": [
        "##Step 1: Exploring and Analyzing the dataset "
      ]
    },
    {
      "cell_type": "code",
      "metadata": {
        "id": "8Lh58D6HsJWa",
        "colab_type": "code",
        "colab": {}
      },
      "source": [
        "#Importing necessary libraries \n",
        "import pandas as pd\n",
        "import numpy as np\n",
        "import matplotlib.pyplot as plt\n",
        "import seaborn as sns\n",
        "import scipy as sp\n",
        "\n",
        "from collections import Counter\n",
        "from datetime import datetime\n",
        "import dateutil\n",
        "\n",
        "import xgboost as xgb\n",
        "\n",
        "from scipy import sparse\n",
        "from IPython.display import Image\n",
        "\n",
        "from sklearn.metrics import mean_squared_error\n",
        "from sklearn.preprocessing import StandardScaler\n",
        "from sklearn.model_selection import train_test_split\n",
        "from sklearn.model_selection import cross_val_score\n",
        "\n",
        "from sklearn import preprocessing\n",
        "from sklearn.preprocessing import OneHotEncoder\n",
        "\n",
        "import xgboost as xgb\n",
        "from sklearn.model_selection import cross_val_score\n",
        "import matplotlib.pyplot as plt\n",
        "from sklearn.linear_model import LogisticRegression\n",
        "from sklearn.metrics import classification_report\n",
        "from mlxtend.plotting import plot_confusion_matrix\n",
        "from sklearn.metrics import confusion_matrix\n",
        "%matplotlib inline\n",
        "\n",
        "from keras.preprocessing.text import Tokenizer\n",
        "from keras.preprocessing.sequence import pad_sequences\n",
        "from keras.preprocessing import sequence\n",
        "\n",
        "from keras.models import Sequential\n",
        "\n",
        "from keras.layers import Dense, LSTM, Dropout, Activation, Dense, Input, CuDNNLSTM, Embedding, Dropout, SpatialDropout1D, Bidirectional\n",
        "from keras.layers.normalization import BatchNormalization\n",
        "\n",
        "from keras.initializers import Constant\n",
        "\n",
        "from sklearn.model_selection import train_test_split"
      ],
      "execution_count": 0,
      "outputs": []
    },
    {
      "cell_type": "code",
      "metadata": {
        "id": "K4ylObIjruFf",
        "colab_type": "code",
        "outputId": "e1d143c2-88c2-4f2d-a4b8-593506af9f39",
        "colab": {
          "base_uri": "https://localhost:8080/",
          "height": 479
        }
      },
      "source": [
        "#importing the dataset \n",
        "instagram_data = pd.read_csv('https://raw.githubusercontent.com/gvsi/instagram-like-predictor/master/dataset.csv')\n",
        "#checking the features and content of the dataset \n",
        "instagram_data.head()"
      ],
      "execution_count": 0,
      "outputs": [
        {
          "output_type": "execute_result",
          "data": {
            "text/html": [
              "<div>\n",
              "<style scoped>\n",
              "    .dataframe tbody tr th:only-of-type {\n",
              "        vertical-align: middle;\n",
              "    }\n",
              "\n",
              "    .dataframe tbody tr th {\n",
              "        vertical-align: top;\n",
              "    }\n",
              "\n",
              "    .dataframe thead th {\n",
              "        text-align: right;\n",
              "    }\n",
              "</style>\n",
              "<table border=\"1\" class=\"dataframe\">\n",
              "  <thead>\n",
              "    <tr style=\"text-align: right;\">\n",
              "      <th></th>\n",
              "      <th>numberPosts</th>\n",
              "      <th>website</th>\n",
              "      <th>urlProfile</th>\n",
              "      <th>username</th>\n",
              "      <th>numberFollowing</th>\n",
              "      <th>descriptionProfile</th>\n",
              "      <th>alias</th>\n",
              "      <th>numberFollowers</th>\n",
              "      <th>urlImgProfile</th>\n",
              "      <th>filename</th>\n",
              "      <th>date</th>\n",
              "      <th>urlImage</th>\n",
              "      <th>mentions</th>\n",
              "      <th>multipleImage</th>\n",
              "      <th>isVideo</th>\n",
              "      <th>localization</th>\n",
              "      <th>tags</th>\n",
              "      <th>numberLikes</th>\n",
              "      <th>url</th>\n",
              "      <th>description</th>\n",
              "    </tr>\n",
              "  </thead>\n",
              "  <tbody>\n",
              "    <tr>\n",
              "      <th>0</th>\n",
              "      <td>988</td>\n",
              "      <td>www.sylviemeis.de</td>\n",
              "      <td>https://www.instagram.com/1misssmeis/</td>\n",
              "      <td>Sylvie Meis Official Account</td>\n",
              "      <td>233</td>\n",
              "      <td>TV Host Let's Dance for RTL Germany / SBS6 / P...</td>\n",
              "      <td>1misssmeis</td>\n",
              "      <td>720979</td>\n",
              "      <td>https://scontent.cdninstagram.com/t51.2885-19/...</td>\n",
              "      <td>18161288_472089323136061_5128727096486526976_n...</td>\n",
              "      <td>2017-04-29T05:00:00.000Z</td>\n",
              "      <td>https://scontent.cdninstagram.com/t51.2885-15/...</td>\n",
              "      <td>['@fraukeludowig_official', '@rtl_exclusiv', '...</td>\n",
              "      <td>False</td>\n",
              "      <td>False</td>\n",
              "      <td>NaN</td>\n",
              "      <td>['#exclusivspezial']</td>\n",
              "      <td>10047</td>\n",
              "      <td>https://www.instagram.com/p/BTdS7XgBe4X/?taken...</td>\n",
              "      <td>With my lovely colleague @fraukeludowig_offici...</td>\n",
              "    </tr>\n",
              "    <tr>\n",
              "      <th>1</th>\n",
              "      <td>988</td>\n",
              "      <td>www.sylviemeis.de</td>\n",
              "      <td>https://www.instagram.com/1misssmeis/</td>\n",
              "      <td>Sylvie Meis Official Account</td>\n",
              "      <td>233</td>\n",
              "      <td>TV Host Let's Dance for RTL Germany / SBS6 / P...</td>\n",
              "      <td>1misssmeis</td>\n",
              "      <td>720979</td>\n",
              "      <td>https://scontent.cdninstagram.com/t51.2885-19/...</td>\n",
              "      <td>18161312_678529115665252_1780327406628765696_n...</td>\n",
              "      <td>2017-04-29T05:00:00.000Z</td>\n",
              "      <td>https://scontent.cdninstagram.com/t51.2885-15/...</td>\n",
              "      <td>['@tine', '@rachelzoe', '@lecolook', '@letsdan...</td>\n",
              "      <td>False</td>\n",
              "      <td>False</td>\n",
              "      <td>NaN</td>\n",
              "      <td>['#jumpsuit', '#glam', '#ootn']</td>\n",
              "      <td>16781</td>\n",
              "      <td>https://www.instagram.com/p/BTdRaquBZTD/?taken...</td>\n",
              "      <td>My look last night, hosting Let's Dance! Style...</td>\n",
              "    </tr>\n",
              "    <tr>\n",
              "      <th>2</th>\n",
              "      <td>988</td>\n",
              "      <td>www.sylviemeis.de</td>\n",
              "      <td>https://www.instagram.com/1misssmeis/</td>\n",
              "      <td>Sylvie Meis Official Account</td>\n",
              "      <td>233</td>\n",
              "      <td>TV Host Let's Dance for RTL Germany / SBS6 / P...</td>\n",
              "      <td>1misssmeis</td>\n",
              "      <td>720979</td>\n",
              "      <td>https://scontent.cdninstagram.com/t51.2885-19/...</td>\n",
              "      <td>18096206_126240614590026_6106733145975947264_n...</td>\n",
              "      <td>2017-04-27T05:00:00.000Z</td>\n",
              "      <td>https://scontent.cdninstagram.com/t51.2885-15/...</td>\n",
              "      <td>['@letsdance', '@rtlde', '@rtlde', '@letsdance']</td>\n",
              "      <td>False</td>\n",
              "      <td>False</td>\n",
              "      <td>NaN</td>\n",
              "      <td>['#rehearsalday', '#behindthescenes']</td>\n",
              "      <td>11227</td>\n",
              "      <td>https://www.instagram.com/p/BTZXesPhDsB/?taken...</td>\n",
              "      <td>Calm before the 'glam' storm! 💋💄💅🏻💆🏼💇🏼Tomorrow...</td>\n",
              "    </tr>\n",
              "    <tr>\n",
              "      <th>3</th>\n",
              "      <td>988</td>\n",
              "      <td>www.sylviemeis.de</td>\n",
              "      <td>https://www.instagram.com/1misssmeis/</td>\n",
              "      <td>Sylvie Meis Official Account</td>\n",
              "      <td>233</td>\n",
              "      <td>TV Host Let's Dance for RTL Germany / SBS6 / P...</td>\n",
              "      <td>1misssmeis</td>\n",
              "      <td>720979</td>\n",
              "      <td>https://scontent.cdninstagram.com/t51.2885-19/...</td>\n",
              "      <td>18094963_1399253156802062_6673302163394920448_...</td>\n",
              "      <td>2017-04-24T05:00:00.000Z</td>\n",
              "      <td>https://scontent.cdninstagram.com/t51.2885-15/...</td>\n",
              "      <td>['@bydanienl', '@roland_mouret', '@casadeioffi...</td>\n",
              "      <td>False</td>\n",
              "      <td>False</td>\n",
              "      <td>NaN</td>\n",
              "      <td>['#dress', '#shoes', '#glam']</td>\n",
              "      <td>21539</td>\n",
              "      <td>https://www.instagram.com/p/BTRS6IOhz6J/?taken...</td>\n",
              "      <td>🌼Today's look for QVC.. styled by @bydanienl #...</td>\n",
              "    </tr>\n",
              "    <tr>\n",
              "      <th>4</th>\n",
              "      <td>988</td>\n",
              "      <td>www.sylviemeis.de</td>\n",
              "      <td>https://www.instagram.com/1misssmeis/</td>\n",
              "      <td>Sylvie Meis Official Account</td>\n",
              "      <td>233</td>\n",
              "      <td>TV Host Let's Dance for RTL Germany / SBS6 / P...</td>\n",
              "      <td>1misssmeis</td>\n",
              "      <td>720979</td>\n",
              "      <td>https://scontent.cdninstagram.com/t51.2885-19/...</td>\n",
              "      <td>18011499_901505923322739_4323762320120479744_n...</td>\n",
              "      <td>2017-04-22T05:00:00.000Z</td>\n",
              "      <td>https://scontent.cdninstagram.com/t51.2885-15/...</td>\n",
              "      <td>['@elisabettafranchi', '@serenagoldenbaum']</td>\n",
              "      <td>False</td>\n",
              "      <td>False</td>\n",
              "      <td>NaN</td>\n",
              "      <td>['#weekend', '#yay', '#happyweekend', '#kiss']</td>\n",
              "      <td>21054</td>\n",
              "      <td>https://www.instagram.com/p/BTLTV46BKDF/?taken...</td>\n",
              "      <td>💋Happy Weekend Lovelies ❤ #weekend #yay #happy...</td>\n",
              "    </tr>\n",
              "  </tbody>\n",
              "</table>\n",
              "</div>"
            ],
            "text/plain": [
              "   numberPosts  ...                                        description\n",
              "0          988  ...  With my lovely colleague @fraukeludowig_offici...\n",
              "1          988  ...  My look last night, hosting Let's Dance! Style...\n",
              "2          988  ...  Calm before the 'glam' storm! 💋💄💅🏻💆🏼💇🏼Tomorrow...\n",
              "3          988  ...  🌼Today's look for QVC.. styled by @bydanienl #...\n",
              "4          988  ...  💋Happy Weekend Lovelies ❤ #weekend #yay #happy...\n",
              "\n",
              "[5 rows x 20 columns]"
            ]
          },
          "metadata": {
            "tags": []
          },
          "execution_count": 575
        }
      ]
    },
    {
      "cell_type": "code",
      "metadata": {
        "id": "-wTAf_4iVcjh",
        "colab_type": "code",
        "outputId": "e1af5781-f1ae-4454-9e25-8a833a70e0f7",
        "colab": {
          "base_uri": "https://localhost:8080/",
          "height": 442
        }
      },
      "source": [
        "instagram_data.info()"
      ],
      "execution_count": 0,
      "outputs": [
        {
          "output_type": "stream",
          "text": [
            "<class 'pandas.core.frame.DataFrame'>\n",
            "RangeIndex: 16539 entries, 0 to 16538\n",
            "Data columns (total 20 columns):\n",
            "numberPosts           16539 non-null int64\n",
            "website               14652 non-null object\n",
            "urlProfile            16539 non-null object\n",
            "username              16335 non-null object\n",
            "numberFollowing       16539 non-null int64\n",
            "descriptionProfile    16148 non-null object\n",
            "alias                 16539 non-null object\n",
            "numberFollowers       16539 non-null int64\n",
            "urlImgProfile         16539 non-null object\n",
            "filename              16539 non-null object\n",
            "date                  16539 non-null object\n",
            "urlImage              16539 non-null object\n",
            "mentions              16539 non-null object\n",
            "multipleImage         16539 non-null bool\n",
            "isVideo               16539 non-null bool\n",
            "localization          6887 non-null object\n",
            "tags                  16539 non-null object\n",
            "numberLikes           16539 non-null int64\n",
            "url                   16539 non-null object\n",
            "description           16319 non-null object\n",
            "dtypes: bool(2), int64(4), object(14)\n",
            "memory usage: 2.3+ MB\n"
          ],
          "name": "stdout"
        }
      ]
    },
    {
      "cell_type": "markdown",
      "metadata": {
        "id": "kyWeQ496qDGF",
        "colab_type": "text"
      },
      "source": [
        "From this we see that the dataset consists of 20 columns and 16539 observations. \n",
        "It is clear from the head output and info output that it is a mixed dataset consisting of both numbers, text and images. \n",
        "\n",
        "Before exploring more we drop all missing values in the dataset: "
      ]
    },
    {
      "cell_type": "code",
      "metadata": {
        "id": "DYBPCEmOFsYJ",
        "colab_type": "code",
        "outputId": "d0f554b0-0bc2-4ca4-b00a-3c1c44eb9898",
        "colab": {
          "base_uri": "https://localhost:8080/",
          "height": 898
        }
      },
      "source": [
        "instagram_data.isnull()\n",
        "instagram_data.dropna()"
      ],
      "execution_count": 0,
      "outputs": [
        {
          "output_type": "execute_result",
          "data": {
            "text/html": [
              "<div>\n",
              "<style scoped>\n",
              "    .dataframe tbody tr th:only-of-type {\n",
              "        vertical-align: middle;\n",
              "    }\n",
              "\n",
              "    .dataframe tbody tr th {\n",
              "        vertical-align: top;\n",
              "    }\n",
              "\n",
              "    .dataframe thead th {\n",
              "        text-align: right;\n",
              "    }\n",
              "</style>\n",
              "<table border=\"1\" class=\"dataframe\">\n",
              "  <thead>\n",
              "    <tr style=\"text-align: right;\">\n",
              "      <th></th>\n",
              "      <th>numberPosts</th>\n",
              "      <th>website</th>\n",
              "      <th>urlProfile</th>\n",
              "      <th>username</th>\n",
              "      <th>numberFollowing</th>\n",
              "      <th>descriptionProfile</th>\n",
              "      <th>alias</th>\n",
              "      <th>numberFollowers</th>\n",
              "      <th>urlImgProfile</th>\n",
              "      <th>filename</th>\n",
              "      <th>date</th>\n",
              "      <th>urlImage</th>\n",
              "      <th>mentions</th>\n",
              "      <th>multipleImage</th>\n",
              "      <th>isVideo</th>\n",
              "      <th>localization</th>\n",
              "      <th>tags</th>\n",
              "      <th>numberLikes</th>\n",
              "      <th>url</th>\n",
              "      <th>description</th>\n",
              "    </tr>\n",
              "  </thead>\n",
              "  <tbody>\n",
              "    <tr>\n",
              "      <th>26</th>\n",
              "      <td>938</td>\n",
              "      <td>www.youtube.com/watch?v=MXkqzeIlhSQ</td>\n",
              "      <td>https://www.instagram.com/3ala2o/</td>\n",
              "      <td>Alaa Ebrahim</td>\n",
              "      <td>466</td>\n",
              "      <td>Youtuber/Gamer/Vlogger/Business owner . Snapch...</td>\n",
              "      <td>3ala2o</td>\n",
              "      <td>792886</td>\n",
              "      <td>https://scontent.cdninstagram.com/t51.2885-19/...</td>\n",
              "      <td>17439338_1918954601674274_3041918009095487488_...</td>\n",
              "      <td>2017-03-28T05:00:00.000Z</td>\n",
              "      <td>https://scontent.cdninstagram.com/t51.2885-15/...</td>\n",
              "      <td>[]</td>\n",
              "      <td>False</td>\n",
              "      <td>False</td>\n",
              "      <td>Amman, Jordan</td>\n",
              "      <td>[]</td>\n",
              "      <td>12244</td>\n",
              "      <td>https://www.instagram.com/p/BSLemZvDnVI/?taken...</td>\n",
              "      <td>اسلم عليكم من الاردن 😋\\nمن وين تتابعني؟ 😎</td>\n",
              "    </tr>\n",
              "    <tr>\n",
              "      <th>33</th>\n",
              "      <td>938</td>\n",
              "      <td>www.youtube.com/watch?v=MXkqzeIlhSQ</td>\n",
              "      <td>https://www.instagram.com/3ala2o/</td>\n",
              "      <td>Alaa Ebrahim</td>\n",
              "      <td>466</td>\n",
              "      <td>Youtuber/Gamer/Vlogger/Business owner . Snapch...</td>\n",
              "      <td>3ala2o</td>\n",
              "      <td>792886</td>\n",
              "      <td>https://scontent.cdninstagram.com/t51.2885-19/...</td>\n",
              "      <td>17076558_1364065980317268_6183115918109835264_...</td>\n",
              "      <td>2017-03-02T06:00:00.000Z</td>\n",
              "      <td>https://scontent.cdninstagram.com/t51.2885-15/...</td>\n",
              "      <td>[]</td>\n",
              "      <td>False</td>\n",
              "      <td>False</td>\n",
              "      <td>Bologna, Italy</td>\n",
              "      <td>[]</td>\n",
              "      <td>7002</td>\n",
              "      <td>https://www.instagram.com/p/BRJV_ItFLSi/?taken...</td>\n",
              "      <td>الحمدالله تم توثيقي اليوم في انستاقرام 😍 وحالي...</td>\n",
              "    </tr>\n",
              "    <tr>\n",
              "      <th>102</th>\n",
              "      <td>1830</td>\n",
              "      <td>basecolour.com</td>\n",
              "      <td>https://www.instagram.com/_hollyt/</td>\n",
              "      <td>BASE COLOUR | Holly Titheridge</td>\n",
              "      <td>844</td>\n",
              "      <td>Fashion &amp; Lifestyle Photography ✉️ info@baseco...</td>\n",
              "      <td>_hollyt</td>\n",
              "      <td>137858</td>\n",
              "      <td>https://scontent.cdninstagram.com/t51.2885-19/...</td>\n",
              "      <td>18160700_150917122110600_3242401679403909120_n...</td>\n",
              "      <td>2017-04-30T05:00:00.000Z</td>\n",
              "      <td>https://scontent.cdninstagram.com/t51.2885-15/...</td>\n",
              "      <td>['@shaun', '@gucci', '@camillaandmarc', '@coun...</td>\n",
              "      <td>False</td>\n",
              "      <td>False</td>\n",
              "      <td>Sydney Airport</td>\n",
              "      <td>[]</td>\n",
              "      <td>2409</td>\n",
              "      <td>https://www.instagram.com/p/BThnFvIFRaW/?taken...</td>\n",
              "      <td>Jam packed next couple of days planned with @s...</td>\n",
              "    </tr>\n",
              "    <tr>\n",
              "      <th>103</th>\n",
              "      <td>1830</td>\n",
              "      <td>basecolour.com</td>\n",
              "      <td>https://www.instagram.com/_hollyt/</td>\n",
              "      <td>BASE COLOUR | Holly Titheridge</td>\n",
              "      <td>844</td>\n",
              "      <td>Fashion &amp; Lifestyle Photography ✉️ info@baseco...</td>\n",
              "      <td>_hollyt</td>\n",
              "      <td>137858</td>\n",
              "      <td>https://scontent.cdninstagram.com/t51.2885-19/...</td>\n",
              "      <td>18160474_136661733542015_7830446260803862528_n...</td>\n",
              "      <td>2017-04-30T05:00:00.000Z</td>\n",
              "      <td>https://scontent.cdninstagram.com/t51.2885-15/...</td>\n",
              "      <td>['@theoldclare', '@gucci', '@vogueaustralia', ...</td>\n",
              "      <td>False</td>\n",
              "      <td>False</td>\n",
              "      <td>The Old Clare Hotel</td>\n",
              "      <td>['#theoldclarehotel']</td>\n",
              "      <td>2883</td>\n",
              "      <td>https://www.instagram.com/p/BTgjOiolvlh/?taken...</td>\n",
              "      <td>Touch down in Sydney, first stop Sunday night ...</td>\n",
              "    </tr>\n",
              "    <tr>\n",
              "      <th>107</th>\n",
              "      <td>1830</td>\n",
              "      <td>basecolour.com</td>\n",
              "      <td>https://www.instagram.com/_hollyt/</td>\n",
              "      <td>BASE COLOUR | Holly Titheridge</td>\n",
              "      <td>844</td>\n",
              "      <td>Fashion &amp; Lifestyle Photography ✉️ info@baseco...</td>\n",
              "      <td>_hollyt</td>\n",
              "      <td>137858</td>\n",
              "      <td>https://scontent.cdninstagram.com/t51.2885-19/...</td>\n",
              "      <td>17934550_1478580215546561_8361222017210384384_...</td>\n",
              "      <td>2017-04-28T05:00:00.000Z</td>\n",
              "      <td>https://scontent.cdninstagram.com/t51.2885-15/...</td>\n",
              "      <td>['@visitmelbourne']</td>\n",
              "      <td>False</td>\n",
              "      <td>False</td>\n",
              "      <td>Southbank, Victoria, Australia</td>\n",
              "      <td>[]</td>\n",
              "      <td>1638</td>\n",
              "      <td>https://www.instagram.com/p/BTbSg51FW7j/?taken...</td>\n",
              "      <td>Friday night lights.. 🌟</td>\n",
              "    </tr>\n",
              "    <tr>\n",
              "      <th>...</th>\n",
              "      <td>...</td>\n",
              "      <td>...</td>\n",
              "      <td>...</td>\n",
              "      <td>...</td>\n",
              "      <td>...</td>\n",
              "      <td>...</td>\n",
              "      <td>...</td>\n",
              "      <td>...</td>\n",
              "      <td>...</td>\n",
              "      <td>...</td>\n",
              "      <td>...</td>\n",
              "      <td>...</td>\n",
              "      <td>...</td>\n",
              "      <td>...</td>\n",
              "      <td>...</td>\n",
              "      <td>...</td>\n",
              "      <td>...</td>\n",
              "      <td>...</td>\n",
              "      <td>...</td>\n",
              "      <td>...</td>\n",
              "    </tr>\n",
              "    <tr>\n",
              "      <th>16497</th>\n",
              "      <td>973</td>\n",
              "      <td>youtu.be/57jckQFsAKU</td>\n",
              "      <td>https://www.instagram.com/zoepastelle/</td>\n",
              "      <td>Z o ë P a s t e l l e 🌸</td>\n",
              "      <td>974</td>\n",
              "      <td>actress, fashion lover, creative mind, hungry ...</td>\n",
              "      <td>zoepastelle</td>\n",
              "      <td>127595</td>\n",
              "      <td>https://scontent.cdninstagram.com/t51.2885-19/...</td>\n",
              "      <td>18096199_1951208725161382_5769725178430881792_...</td>\n",
              "      <td>2017-04-26T05:00:00.000Z</td>\n",
              "      <td>https://scontent.cdninstagram.com/t51.2885-15/...</td>\n",
              "      <td>[]</td>\n",
              "      <td>False</td>\n",
              "      <td>False</td>\n",
              "      <td>Piraino</td>\n",
              "      <td>['#adventure', '#travel', '#italy']</td>\n",
              "      <td>6656</td>\n",
              "      <td>https://www.instagram.com/p/BTV_46WhilI/?taken...</td>\n",
              "      <td>todays breaky situation 🍇☕️ off to next spot i...</td>\n",
              "    </tr>\n",
              "    <tr>\n",
              "      <th>16499</th>\n",
              "      <td>973</td>\n",
              "      <td>youtu.be/57jckQFsAKU</td>\n",
              "      <td>https://www.instagram.com/zoepastelle/</td>\n",
              "      <td>Z o ë P a s t e l l e 🌸</td>\n",
              "      <td>974</td>\n",
              "      <td>actress, fashion lover, creative mind, hungry ...</td>\n",
              "      <td>zoepastelle</td>\n",
              "      <td>127595</td>\n",
              "      <td>https://scontent.cdninstagram.com/t51.2885-19/...</td>\n",
              "      <td>17818940_1402905413113712_4268329582412693504_...</td>\n",
              "      <td>2017-04-25T05:00:00.000Z</td>\n",
              "      <td>https://scontent.cdninstagram.com/t51.2885-15/...</td>\n",
              "      <td>['@gucci', '@visilabch', '@gucci', '@ootdmagaz...</td>\n",
              "      <td>False</td>\n",
              "      <td>False</td>\n",
              "      <td>Sicilia, Italy</td>\n",
              "      <td>['#wearesummer17', '#italy', '#ad']</td>\n",
              "      <td>5398</td>\n",
              "      <td>https://www.instagram.com/p/BTTiGn9Boxe/?taken...</td>\n",
              "      <td>woke up in beautiful sicily 💙 so happy with my...</td>\n",
              "    </tr>\n",
              "    <tr>\n",
              "      <th>16500</th>\n",
              "      <td>973</td>\n",
              "      <td>youtu.be/57jckQFsAKU</td>\n",
              "      <td>https://www.instagram.com/zoepastelle/</td>\n",
              "      <td>Z o ë P a s t e l l e 🌸</td>\n",
              "      <td>974</td>\n",
              "      <td>actress, fashion lover, creative mind, hungry ...</td>\n",
              "      <td>zoepastelle</td>\n",
              "      <td>127595</td>\n",
              "      <td>https://scontent.cdninstagram.com/t51.2885-19/...</td>\n",
              "      <td>18096197_1865890716996111_832107221625077760_n...</td>\n",
              "      <td>2017-04-24T05:00:00.000Z</td>\n",
              "      <td>https://scontent.cdninstagram.com/t51.2885-15/...</td>\n",
              "      <td>['@aenymblaze']</td>\n",
              "      <td>False</td>\n",
              "      <td>False</td>\n",
              "      <td>Sicilia, Italy</td>\n",
              "      <td>['#italy', '#sicily']</td>\n",
              "      <td>5683</td>\n",
              "      <td>https://www.instagram.com/p/BTRp5MvBZJa/?taken...</td>\n",
              "      <td>spending this week with this lovie 👯🌞 #italy #...</td>\n",
              "    </tr>\n",
              "    <tr>\n",
              "      <th>16501</th>\n",
              "      <td>973</td>\n",
              "      <td>youtu.be/57jckQFsAKU</td>\n",
              "      <td>https://www.instagram.com/zoepastelle/</td>\n",
              "      <td>Z o ë P a s t e l l e 🌸</td>\n",
              "      <td>974</td>\n",
              "      <td>actress, fashion lover, creative mind, hungry ...</td>\n",
              "      <td>zoepastelle</td>\n",
              "      <td>127595</td>\n",
              "      <td>https://scontent.cdninstagram.com/t51.2885-19/...</td>\n",
              "      <td>18095128_609322822598800_2862695809881735168_n...</td>\n",
              "      <td>2017-04-24T05:00:00.000Z</td>\n",
              "      <td>https://scontent.cdninstagram.com/t51.2885-15/...</td>\n",
              "      <td>['@amtourister_eu', '@amtourister_eu']</td>\n",
              "      <td>False</td>\n",
              "      <td>False</td>\n",
              "      <td>Aeroporto di Milano Malpensa</td>\n",
              "      <td>['#meandmyat', '#wearesummer17', '#ad']</td>\n",
              "      <td>5510</td>\n",
              "      <td>https://www.instagram.com/p/BTQ8UK-h3xf/?taken...</td>\n",
              "      <td>next stop sicily 🌴🌸 matching with my luggage f...</td>\n",
              "    </tr>\n",
              "    <tr>\n",
              "      <th>16502</th>\n",
              "      <td>973</td>\n",
              "      <td>youtu.be/57jckQFsAKU</td>\n",
              "      <td>https://www.instagram.com/zoepastelle/</td>\n",
              "      <td>Z o ë P a s t e l l e 🌸</td>\n",
              "      <td>974</td>\n",
              "      <td>actress, fashion lover, creative mind, hungry ...</td>\n",
              "      <td>zoepastelle</td>\n",
              "      <td>127595</td>\n",
              "      <td>https://scontent.cdninstagram.com/t51.2885-19/...</td>\n",
              "      <td>18095222_666179676839941_5799644509025337344_n...</td>\n",
              "      <td>2017-04-23T05:00:00.000Z</td>\n",
              "      <td>https://scontent.cdninstagram.com/t51.2885-15/...</td>\n",
              "      <td>['@sinclairmaurice']</td>\n",
              "      <td>False</td>\n",
              "      <td>False</td>\n",
              "      <td>La Casa Alfredo</td>\n",
              "      <td>[]</td>\n",
              "      <td>5557</td>\n",
              "      <td>https://www.instagram.com/p/BTO9ScsB3dh/?taken...</td>\n",
              "      <td>one night in this paradise 🌴🌴🌴</td>\n",
              "    </tr>\n",
              "  </tbody>\n",
              "</table>\n",
              "<p>6039 rows × 20 columns</p>\n",
              "</div>"
            ],
            "text/plain": [
              "       numberPosts  ...                                        description\n",
              "26             938  ...          اسلم عليكم من الاردن 😋\\nمن وين تتابعني؟ 😎\n",
              "33             938  ...  الحمدالله تم توثيقي اليوم في انستاقرام 😍 وحالي...\n",
              "102           1830  ...  Jam packed next couple of days planned with @s...\n",
              "103           1830  ...  Touch down in Sydney, first stop Sunday night ...\n",
              "107           1830  ...                            Friday night lights.. 🌟\n",
              "...            ...  ...                                                ...\n",
              "16497          973  ...  todays breaky situation 🍇☕️ off to next spot i...\n",
              "16499          973  ...  woke up in beautiful sicily 💙 so happy with my...\n",
              "16500          973  ...  spending this week with this lovie 👯🌞 #italy #...\n",
              "16501          973  ...  next stop sicily 🌴🌸 matching with my luggage f...\n",
              "16502          973  ...                     one night in this paradise 🌴🌴🌴\n",
              "\n",
              "[6039 rows x 20 columns]"
            ]
          },
          "metadata": {
            "tags": []
          },
          "execution_count": 577
        }
      ]
    },
    {
      "cell_type": "code",
      "metadata": {
        "id": "cuXQSR6O6Pww",
        "colab_type": "code",
        "outputId": "6d3ac1ac-28ba-4cec-92c4-6986680ef14f",
        "colab": {
          "base_uri": "https://localhost:8080/",
          "height": 297
        }
      },
      "source": [
        "#Checking the numerical values in the dataset\n",
        "pd.options.display.float_format = '{:.2f}'.format\n",
        "instagram_data.describe()"
      ],
      "execution_count": 0,
      "outputs": [
        {
          "output_type": "execute_result",
          "data": {
            "text/html": [
              "<div>\n",
              "<style scoped>\n",
              "    .dataframe tbody tr th:only-of-type {\n",
              "        vertical-align: middle;\n",
              "    }\n",
              "\n",
              "    .dataframe tbody tr th {\n",
              "        vertical-align: top;\n",
              "    }\n",
              "\n",
              "    .dataframe thead th {\n",
              "        text-align: right;\n",
              "    }\n",
              "</style>\n",
              "<table border=\"1\" class=\"dataframe\">\n",
              "  <thead>\n",
              "    <tr style=\"text-align: right;\">\n",
              "      <th></th>\n",
              "      <th>numberPosts</th>\n",
              "      <th>numberFollowing</th>\n",
              "      <th>numberFollowers</th>\n",
              "      <th>numberLikes</th>\n",
              "    </tr>\n",
              "  </thead>\n",
              "  <tbody>\n",
              "    <tr>\n",
              "      <th>count</th>\n",
              "      <td>16539.00</td>\n",
              "      <td>16539.00</td>\n",
              "      <td>16539.00</td>\n",
              "      <td>16539.00</td>\n",
              "    </tr>\n",
              "    <tr>\n",
              "      <th>mean</th>\n",
              "      <td>2315.73</td>\n",
              "      <td>2590.56</td>\n",
              "      <td>997829.41</td>\n",
              "      <td>24414.26</td>\n",
              "    </tr>\n",
              "    <tr>\n",
              "      <th>std</th>\n",
              "      <td>2655.38</td>\n",
              "      <td>59090.66</td>\n",
              "      <td>1934400.77</td>\n",
              "      <td>64220.60</td>\n",
              "    </tr>\n",
              "    <tr>\n",
              "      <th>min</th>\n",
              "      <td>15.00</td>\n",
              "      <td>0.00</td>\n",
              "      <td>124965.00</td>\n",
              "      <td>0.00</td>\n",
              "    </tr>\n",
              "    <tr>\n",
              "      <th>25%</th>\n",
              "      <td>787.00</td>\n",
              "      <td>191.00</td>\n",
              "      <td>198039.00</td>\n",
              "      <td>3232.50</td>\n",
              "    </tr>\n",
              "    <tr>\n",
              "      <th>50%</th>\n",
              "      <td>1481.00</td>\n",
              "      <td>396.00</td>\n",
              "      <td>393843.00</td>\n",
              "      <td>7351.00</td>\n",
              "    </tr>\n",
              "    <tr>\n",
              "      <th>75%</th>\n",
              "      <td>2932.00</td>\n",
              "      <td>645.00</td>\n",
              "      <td>935310.00</td>\n",
              "      <td>18357.00</td>\n",
              "    </tr>\n",
              "    <tr>\n",
              "      <th>max</th>\n",
              "      <td>27671.00</td>\n",
              "      <td>1838511.00</td>\n",
              "      <td>22130730.00</td>\n",
              "      <td>1115123.00</td>\n",
              "    </tr>\n",
              "  </tbody>\n",
              "</table>\n",
              "</div>"
            ],
            "text/plain": [
              "       numberPosts  numberFollowing  numberFollowers  numberLikes\n",
              "count     16539.00         16539.00         16539.00     16539.00\n",
              "mean       2315.73          2590.56        997829.41     24414.26\n",
              "std        2655.38         59090.66       1934400.77     64220.60\n",
              "min          15.00             0.00        124965.00         0.00\n",
              "25%         787.00           191.00        198039.00      3232.50\n",
              "50%        1481.00           396.00        393843.00      7351.00\n",
              "75%        2932.00           645.00        935310.00     18357.00\n",
              "max       27671.00       1838511.00      22130730.00   1115123.00"
            ]
          },
          "metadata": {
            "tags": []
          },
          "execution_count": 578
        }
      ]
    },
    {
      "cell_type": "markdown",
      "metadata": {
        "id": "UMsRGK5F0nla",
        "colab_type": "text"
      },
      "source": [
        "The describe() gives an overview of the numerical features. \n",
        "From this we see that there is a big distribution between 75 % of the data and max for all the features. We also see that there is a big difference in the number of followers and following. \n",
        "\n",
        "We are now looking a bit deeper into the dataset - starting out by exploring the 'date' feature to see if there is a link between the time of the post and number of likes"
      ]
    },
    {
      "cell_type": "code",
      "metadata": {
        "id": "GaL0zqtP8ZYS",
        "colab_type": "code",
        "outputId": "8610107b-a362-4fe5-fea1-aa433745ca59",
        "colab": {
          "base_uri": "https://localhost:8080/",
          "height": 459
        }
      },
      "source": [
        "#First we convert the dates to week days using pandas datetime function \n",
        "instagram_data['day_of_Week'] = pd.to_datetime(instagram_data['date']).dt.weekday_name.astype('category')\n",
        "instagram_data.info()"
      ],
      "execution_count": 0,
      "outputs": [
        {
          "output_type": "stream",
          "text": [
            "<class 'pandas.core.frame.DataFrame'>\n",
            "RangeIndex: 16539 entries, 0 to 16538\n",
            "Data columns (total 21 columns):\n",
            "numberPosts           16539 non-null int64\n",
            "website               14652 non-null object\n",
            "urlProfile            16539 non-null object\n",
            "username              16335 non-null object\n",
            "numberFollowing       16539 non-null int64\n",
            "descriptionProfile    16148 non-null object\n",
            "alias                 16539 non-null object\n",
            "numberFollowers       16539 non-null int64\n",
            "urlImgProfile         16539 non-null object\n",
            "filename              16539 non-null object\n",
            "date                  16539 non-null object\n",
            "urlImage              16539 non-null object\n",
            "mentions              16539 non-null object\n",
            "multipleImage         16539 non-null bool\n",
            "isVideo               16539 non-null bool\n",
            "localization          6887 non-null object\n",
            "tags                  16539 non-null object\n",
            "numberLikes           16539 non-null int64\n",
            "url                   16539 non-null object\n",
            "description           16319 non-null object\n",
            "day_of_Week           16539 non-null category\n",
            "dtypes: bool(2), category(1), int64(4), object(14)\n",
            "memory usage: 2.3+ MB\n"
          ],
          "name": "stdout"
        }
      ]
    },
    {
      "cell_type": "markdown",
      "metadata": {
        "id": "zHCEiTGN-8Yd",
        "colab_type": "text"
      },
      "source": [
        "Then we check if there is a link between the day of the week and number of posts. "
      ]
    },
    {
      "cell_type": "code",
      "metadata": {
        "id": "xmhQyuTO8gPh",
        "colab_type": "code",
        "outputId": "48c8050c-e5ba-44f9-b995-bdc9cc2f591c",
        "colab": {
          "base_uri": "https://localhost:8080/",
          "height": 369
        }
      },
      "source": [
        "sns.catplot(x=\"numberPosts\", y=\"day_of_Week\", kind=\"bar\", data=instagram_data);"
      ],
      "execution_count": 0,
      "outputs": [
        {
          "output_type": "display_data",
          "data": {
            "image/png": "[encoded data removed]",
            "text/plain": [
              "<Figure size 360x360 with 1 Axes>"
            ]
          },
          "metadata": {
            "tags": []
          }
        }
      ]
    },
    {
      "cell_type": "markdown",
      "metadata": {
        "id": "3jcZ7MHr-NqY",
        "colab_type": "text"
      },
      "source": [
        "The plot shows that most posts are posted in the weekends, while the days with the least posts are monday and tuesdays.\n",
        "\n",
        "Next up, we look into the link between day of week and number of likes "
      ]
    },
    {
      "cell_type": "code",
      "metadata": {
        "id": "YKD1vIEo8g3R",
        "colab_type": "code",
        "outputId": "55036f41-27a9-491a-b019-92c304605c9c",
        "colab": {
          "base_uri": "https://localhost:8080/",
          "height": 106
        }
      },
      "source": [
        "#We recode the numbers of likes to categorical to make it easier to spot a\n",
        "# link, when plotting the categories as bars\n",
        "\n",
        "#setting intervals set by the percentages set in the describe output so each \n",
        "#interval consists of 25 % of the samples\n",
        "interval = (0, 3232, 7351, 18357, 1115123)\n",
        "numberLikes_cat = ['0-3232', '3232-7351', '7351-18357', '18357-1115123']\n",
        "instagram_data[\"numberLikes_cat\"] = pd.cut(instagram_data.numberLikes, interval, labels=numberLikes_cat)\n",
        "\n",
        "instagram_data.numberLikes_cat.value_counts(normalize=True)"
      ],
      "execution_count": 148,
      "outputs": [
        {
          "output_type": "execute_result",
          "data": {
            "text/plain": [
              "3232-7351       0.31\n",
              "7351-18357      0.30\n",
              "0-3232          0.30\n",
              "18357-1115123   0.10\n",
              "Name: numberLikes_cat, dtype: float64"
            ]
          },
          "metadata": {
            "tags": []
          },
          "execution_count": 148
        }
      ]
    },
    {
      "cell_type": "code",
      "metadata": {
        "id": "gf7uQQmF8wCQ",
        "colab_type": "code",
        "outputId": "6702aa7d-0e47-457c-8969-093932b98cc5",
        "colab": {
          "base_uri": "https://localhost:8080/",
          "height": 367
        }
      },
      "source": [
        "#Here we make an crosstab and plot of the link bewteen the number of likes and the day of the week \n",
        "day_likes = pd.crosstab(instagram_data.numberLikes_cat,instagram_data.day_of_Week, normalize='index')\n",
        "print(day_likes)\n",
        "\n",
        "figure = day_likes.plot(kind = 'barh')"
      ],
      "execution_count": 0,
      "outputs": [
        {
          "output_type": "stream",
          "text": [
            "day_of_Week      Friday  Monday  Saturday  Sunday  Thursday  Tuesday  Wednesday\n",
            "numberLikes_cat                                                                \n",
            "0-3232             0.14    0.11      0.15    0.20      0.15     0.12       0.13\n",
            "3232-7351          0.14    0.10      0.15    0.19      0.15     0.13       0.14\n",
            "7351-18357         0.15    0.12      0.15    0.18      0.14     0.13       0.14\n",
            "18357-1115123      0.15    0.10      0.16    0.18      0.15     0.13       0.13\n"
          ],
          "name": "stdout"
        },
        {
          "output_type": "display_data",
          "data": {
            "image/png": "[encoded data removed]",
            "text/plain": [
              "<Figure size 432x288 with 1 Axes>"
            ]
          },
          "metadata": {
            "tags": []
          }
        }
      ]
    },
    {
      "cell_type": "markdown",
      "metadata": {
        "id": "mCKtEPTw__f0",
        "colab_type": "text"
      },
      "source": [
        "From this we see posts posted on sundays gets the most likes followed up by saturdays. This makes sense considering that these also are the days with the most posts. \n",
        "\n",
        "Before creating, traning and testing any of our models, we want to explore the link between the numerical features. First plotting a pairplot of the features: number of followers, number of likes, number of following, number of posts and number of likes. "
      ]
    },
    {
      "cell_type": "code",
      "metadata": {
        "id": "ykJqq6D9IAP_",
        "colab_type": "code",
        "outputId": "ab99e55e-92a7-4159-887a-fcce1ac3dfb3",
        "colab": {
          "base_uri": "https://localhost:8080/",
          "height": 753
        }
      },
      "source": [
        "user=instagram_data[[\"numberFollowers\", \"numberFollowing\", \"numberPosts\", 'numberLikes']]\n",
        "sns.pairplot(user)"
      ],
      "execution_count": 0,
      "outputs": [
        {
          "output_type": "execute_result",
          "data": {
            "text/plain": [
              "<seaborn.axisgrid.PairGrid at 0x7f4cebfd26d8>"
            ]
          },
          "metadata": {
            "tags": []
          },
          "execution_count": 583
        },
        {
          "output_type": "display_data",
          "data": {
            "image/png": "[encoded data removed]",
            "text/plain": [
              "<Figure size 720x720 with 20 Axes>"
            ]
          },
          "metadata": {
            "tags": []
          }
        }
      ]
    },
    {
      "cell_type": "markdown",
      "metadata": {
        "id": "5CZUrqih2LXS",
        "colab_type": "text"
      },
      "source": [
        "It is comon for most of the above plots that the samples are gathered in the right lower corner. This is also confirmed in the described output showing that there is a large distribution in the 25 % of the data with the highest values. Due to this we want to filter the features. By doing this we also reduce the number of outliers disturbing the result. This we do by setting a max for numerical features. "
      ]
    },
    {
      "cell_type": "code",
      "metadata": {
        "id": "w7CfraEJIIZS",
        "colab_type": "code",
        "colab": {}
      },
      "source": [
        "#setting a new max for the numerical features: \n",
        "instagram_data = instagram_data[instagram_data.numberLikes <60000]\n",
        "instagram_data = instagram_data[instagram_data.numberFollowers <1000000]\n",
        "instagram_data = instagram_data[instagram_data.numberPosts <5000]\n",
        "instagram_data = instagram_data[instagram_data.numberFollowing <1000]"
      ],
      "execution_count": 0,
      "outputs": []
    },
    {
      "cell_type": "code",
      "metadata": {
        "id": "7tuEi_rgIPZj",
        "colab_type": "code",
        "outputId": "335fce55-aaac-4302-f553-20385d1db244",
        "colab": {
          "base_uri": "https://localhost:8080/",
          "height": 297
        }
      },
      "source": [
        "pd.options.display.float_format = '{:.2f}'.format\n",
        "instagram_data.describe()"
      ],
      "execution_count": 0,
      "outputs": [
        {
          "output_type": "execute_result",
          "data": {
            "text/html": [
              "<div>\n",
              "<style scoped>\n",
              "    .dataframe tbody tr th:only-of-type {\n",
              "        vertical-align: middle;\n",
              "    }\n",
              "\n",
              "    .dataframe tbody tr th {\n",
              "        vertical-align: top;\n",
              "    }\n",
              "\n",
              "    .dataframe thead th {\n",
              "        text-align: right;\n",
              "    }\n",
              "</style>\n",
              "<table border=\"1\" class=\"dataframe\">\n",
              "  <thead>\n",
              "    <tr style=\"text-align: right;\">\n",
              "      <th></th>\n",
              "      <th>numberPosts</th>\n",
              "      <th>numberFollowing</th>\n",
              "      <th>numberFollowers</th>\n",
              "      <th>numberLikes</th>\n",
              "    </tr>\n",
              "  </thead>\n",
              "  <tbody>\n",
              "    <tr>\n",
              "      <th>count</th>\n",
              "      <td>10644.00</td>\n",
              "      <td>10644.00</td>\n",
              "      <td>10644.00</td>\n",
              "      <td>10644.00</td>\n",
              "    </tr>\n",
              "    <tr>\n",
              "      <th>mean</th>\n",
              "      <td>1561.75</td>\n",
              "      <td>381.03</td>\n",
              "      <td>353258.59</td>\n",
              "      <td>8316.72</td>\n",
              "    </tr>\n",
              "    <tr>\n",
              "      <th>std</th>\n",
              "      <td>1140.99</td>\n",
              "      <td>250.19</td>\n",
              "      <td>219680.95</td>\n",
              "      <td>8219.05</td>\n",
              "    </tr>\n",
              "    <tr>\n",
              "      <th>min</th>\n",
              "      <td>38.00</td>\n",
              "      <td>0.00</td>\n",
              "      <td>124965.00</td>\n",
              "      <td>0.00</td>\n",
              "    </tr>\n",
              "    <tr>\n",
              "      <th>25%</th>\n",
              "      <td>682.00</td>\n",
              "      <td>180.00</td>\n",
              "      <td>177856.00</td>\n",
              "      <td>2812.50</td>\n",
              "    </tr>\n",
              "    <tr>\n",
              "      <th>50%</th>\n",
              "      <td>1215.00</td>\n",
              "      <td>357.00</td>\n",
              "      <td>276353.00</td>\n",
              "      <td>5742.50</td>\n",
              "    </tr>\n",
              "    <tr>\n",
              "      <th>75%</th>\n",
              "      <td>2208.00</td>\n",
              "      <td>536.00</td>\n",
              "      <td>479108.00</td>\n",
              "      <td>10798.75</td>\n",
              "    </tr>\n",
              "    <tr>\n",
              "      <th>max</th>\n",
              "      <td>4983.00</td>\n",
              "      <td>999.00</td>\n",
              "      <td>990123.00</td>\n",
              "      <td>59470.00</td>\n",
              "    </tr>\n",
              "  </tbody>\n",
              "</table>\n",
              "</div>"
            ],
            "text/plain": [
              "       numberPosts  numberFollowing  numberFollowers  numberLikes\n",
              "count     10644.00         10644.00         10644.00     10644.00\n",
              "mean       1561.75           381.03        353258.59      8316.72\n",
              "std        1140.99           250.19        219680.95      8219.05\n",
              "min          38.00             0.00        124965.00         0.00\n",
              "25%         682.00           180.00        177856.00      2812.50\n",
              "50%        1215.00           357.00        276353.00      5742.50\n",
              "75%        2208.00           536.00        479108.00     10798.75\n",
              "max        4983.00           999.00        990123.00     59470.00"
            ]
          },
          "metadata": {
            "tags": []
          },
          "execution_count": 585
        }
      ]
    },
    {
      "cell_type": "markdown",
      "metadata": {
        "id": "4lp74Zb23oWw",
        "colab_type": "text"
      },
      "source": [
        "As shown above, we now see a new distribution of the data. \n",
        "Now we want to plot the numerical features again to see if it gets easier to see the link bewteen the features"
      ]
    },
    {
      "cell_type": "code",
      "metadata": {
        "id": "0C-n0qRbIR-k",
        "colab_type": "code",
        "outputId": "cb5b71a6-7118-418b-cead-833da9616e52",
        "colab": {
          "base_uri": "https://localhost:8080/",
          "height": 296
        }
      },
      "source": [
        "sns.regplot(x='numberLikes', y='numberFollowers', data=instagram_data)"
      ],
      "execution_count": 0,
      "outputs": [
        {
          "output_type": "execute_result",
          "data": {
            "text/plain": [
              "<matplotlib.axes._subplots.AxesSubplot at 0x7f4ceb8e84a8>"
            ]
          },
          "metadata": {
            "tags": []
          },
          "execution_count": 586
        },
        {
          "output_type": "display_data",
          "data": {
            "image/png": "[encoded data removed]",
            "text/plain": [
              "<Figure size 432x288 with 1 Axes>"
            ]
          },
          "metadata": {
            "tags": []
          }
        }
      ]
    },
    {
      "cell_type": "markdown",
      "metadata": {
        "id": "BihWJ3yJJyCZ",
        "colab_type": "text"
      },
      "source": [
        "From this scatterplot we see that just because you have more followers does not mean that you receive more likes, since posts with fewer followers receives approximately as many likes as the posts with more followers. "
      ]
    },
    {
      "cell_type": "code",
      "metadata": {
        "id": "IDfW9EZ_IUdE",
        "colab_type": "code",
        "outputId": "65f9c452-66e1-4e0c-f41f-2c2553d5e6aa",
        "colab": {
          "base_uri": "https://localhost:8080/",
          "height": 296
        }
      },
      "source": [
        "sns.regplot(x='numberFollowers', y='numberFollowing', data=instagram_data)"
      ],
      "execution_count": 0,
      "outputs": [
        {
          "output_type": "execute_result",
          "data": {
            "text/plain": [
              "<matplotlib.axes._subplots.AxesSubplot at 0x7f4ceb920320>"
            ]
          },
          "metadata": {
            "tags": []
          },
          "execution_count": 587
        },
        {
          "output_type": "display_data",
          "data": {
            "image/png": "[encoded data removed]",
            "text/plain": [
              "<Figure size 432x288 with 1 Axes>"
            ]
          },
          "metadata": {
            "tags": []
          }
        }
      ]
    },
    {
      "cell_type": "code",
      "metadata": {
        "id": "HVeJqCshIW85",
        "colab_type": "code",
        "outputId": "ebed1f04-e733-42d8-d1f4-c480d991ceaf",
        "colab": {
          "base_uri": "https://localhost:8080/",
          "height": 296
        }
      },
      "source": [
        "sns.regplot(x='numberPosts', y='numberFollowers', data=instagram_data)"
      ],
      "execution_count": 0,
      "outputs": [
        {
          "output_type": "execute_result",
          "data": {
            "text/plain": [
              "<matplotlib.axes._subplots.AxesSubplot at 0x7f4ceb87bc18>"
            ]
          },
          "metadata": {
            "tags": []
          },
          "execution_count": 588
        },
        {
          "output_type": "display_data",
          "data": {
            "image/png": "[encoded data removed]",
            "text/plain": [
              "<Figure size 432x288 with 1 Axes>"
            ]
          },
          "metadata": {
            "tags": []
          }
        }
      ]
    },
    {
      "cell_type": "code",
      "metadata": {
        "id": "2ZnOlRPBIZdc",
        "colab_type": "code",
        "outputId": "6b9dfb13-4295-4b73-9458-61b68e032ed7",
        "colab": {
          "base_uri": "https://localhost:8080/",
          "height": 296
        }
      },
      "source": [
        "sns.regplot(x='numberPosts', y='numberLikes', data=instagram_data)"
      ],
      "execution_count": 0,
      "outputs": [
        {
          "output_type": "execute_result",
          "data": {
            "text/plain": [
              "<matplotlib.axes._subplots.AxesSubplot at 0x7f4ceb848c50>"
            ]
          },
          "metadata": {
            "tags": []
          },
          "execution_count": 589
        },
        {
          "output_type": "display_data",
          "data": {
            "image/png": "[encoded data removed]",
            "text/plain": [
              "<Figure size 432x288 with 1 Axes>"
            ]
          },
          "metadata": {
            "tags": []
          }
        }
      ]
    },
    {
      "cell_type": "markdown",
      "metadata": {
        "id": "Q7mwOxUT4rQU",
        "colab_type": "text"
      },
      "source": [
        "From the three above plots there is no direct link to see between the numerical features. \n",
        "\n",
        "Lastly before building our models we want to look at the 10 most common tags (just for fun) "
      ]
    },
    {
      "cell_type": "code",
      "metadata": {
        "id": "Wq14Mmtkr6i_",
        "colab_type": "code",
        "outputId": "712d6d41-6895-4260-c32e-e2054d5f9bb0",
        "colab": {
          "base_uri": "https://localhost:8080/",
          "height": 204
        }
      },
      "source": [
        "instagram_data['tags'].value_counts()[0:10]"
      ],
      "execution_count": 0,
      "outputs": [
        {
          "output_type": "execute_result",
          "data": {
            "text/plain": [
              "[]                                                                                                                                                   4537\n",
              "['#liketkit']                                                                                                                                          26\n",
              "['#artofvisuals', '#aov', '#bevisuallyinspired']                                                                                                       17\n",
              "['#vacationwolf']                                                                                                                                      17\n",
              "['#alldaytravel']                                                                                                                                      17\n",
              "['#SolelyNikes']                                                                                                                                       16\n",
              "['#YourShotPhotographer']                                                                                                                              16\n",
              "['#PatagoniaStory']                                                                                                                                    16\n",
              "['#exploretocreate']                                                                                                                                   16\n",
              "['#explorecanada', '#tourcanada', '#nature', '#instatravel', '#canada', '#explorebc', '#canadasworld', '#ilovecanada', '#enjoycanada', '#travel']      16\n",
              "Name: tags, dtype: int64"
            ]
          },
          "metadata": {
            "tags": []
          },
          "execution_count": 590
        }
      ]
    },
    {
      "cell_type": "markdown",
      "metadata": {
        "id": "x8eznzm-YD6X",
        "colab_type": "text"
      },
      "source": [
        "Funnily enough we see that the most common tag is '[]' which means it has no tag. "
      ]
    },
    {
      "cell_type": "markdown",
      "metadata": {
        "id": "FGnDgNgIKS6L",
        "colab_type": "text"
      },
      "source": [
        "**Selecting features** \n",
        "\n",
        "Even though we did not directly see any links between the numerical features we are still interested in seeing if a basemodel can predict likes based on these features: \n",
        "\n",
        "*  Number of followers \n",
        "*  Number of posts \n",
        "*  Number of following "
      ]
    },
    {
      "cell_type": "markdown",
      "metadata": {
        "id": "JzjghhDcJ5KC",
        "colab_type": "text"
      },
      "source": [
        "## Step 2: Creating the Baseline Model \n",
        "\n"
      ]
    },
    {
      "cell_type": "markdown",
      "metadata": {
        "id": "OM76mIGEO_Mz",
        "colab_type": "text"
      },
      "source": [
        "We start building a XGBoost model as a base model. XGBoost is an advance implementation of Gradient Boosting, which can be used for classification problems to produce a prediction model. We have chosen the XGBoost because it is very effective, fast and works well out of the box. Its an esemble of weaker prediction models, like decisions trees, which makes it more efficient. The XGboost builds the model in a stage-wise fashion like other boosting methods do, and it generalizes them by allowing optimization of an arbitrary differentiable loss function. "
      ]
    },
    {
      "cell_type": "markdown",
      "metadata": {
        "id": "dluYaIp0GV-n",
        "colab_type": "text"
      },
      "source": [
        "**Step 2.1: Preprocessing for XGboost**"
      ]
    },
    {
      "cell_type": "markdown",
      "metadata": {
        "id": "lXBep0IHF_15",
        "colab_type": "text"
      },
      "source": [
        "We start out by converting our y-variable, number of likes, to a dummy variable, making it possible to build a binary classification model. We split the samples in two set by the mean of the feature, making it possible to predict whether a post receives likes less or above the average. "
      ]
    },
    {
      "cell_type": "code",
      "metadata": {
        "id": "CVD0nNez_7iB",
        "colab_type": "code",
        "outputId": "3a9b869c-8a95-4fbf-a4ad-1d0737fde2fe",
        "colab": {
          "base_uri": "https://localhost:8080/",
          "height": 68
        }
      },
      "source": [
        "#Recoding Number of likes to categorical, setting the categories after the mean seen in the describe output and the new max value \n",
        "interval = (0, 8316.72, 75000)\n",
        "\n",
        "#categorizing the categories\n",
        "numberLikes_cat = ['less than mean', 'above mean']\n",
        "instagram_data[\"numberLikes_cat\"] = pd.cut(instagram_data.numberLikes, interval, labels=numberLikes_cat)\n",
        "\n",
        "instagram_data.numberLikes_cat.value_counts(normalize=True)"
      ],
      "execution_count": 0,
      "outputs": [
        {
          "output_type": "execute_result",
          "data": {
            "text/plain": [
              "less than mean   0.65\n",
              "above mean       0.35\n",
              "Name: numberLikes_cat, dtype: float64"
            ]
          },
          "metadata": {
            "tags": []
          },
          "execution_count": 591
        }
      ]
    },
    {
      "cell_type": "markdown",
      "metadata": {
        "id": "-fPz8ndcGyjC",
        "colab_type": "text"
      },
      "source": [
        "The feature is now converted into two categories with a distribution of 65 and 35 %\n",
        "\n",
        "We then convert the two categories to dummy variables, so it can fit in the XGBoost model"
      ]
    },
    {
      "cell_type": "code",
      "metadata": {
        "id": "gV0MREhC_8ty",
        "colab_type": "code",
        "colab": {}
      },
      "source": [
        "numberLikes_dummy = pd.get_dummies(instagram_data.numberLikes_cat)\n",
        "\n",
        "#joining the dummy variables to the dataset\n",
        "instagram_data = instagram_data.join(numberLikes_dummy)"
      ],
      "execution_count": 0,
      "outputs": []
    },
    {
      "cell_type": "code",
      "metadata": {
        "id": "t6gcPt6FGeV9",
        "colab_type": "code",
        "colab": {}
      },
      "source": [
        "#We can now set our x and y\n",
        "\n",
        "features = ['numberPosts', 'numberFollowing', 'numberFollowers' ]\n",
        "\n",
        "x = instagram_data.loc[:, features]\n",
        "\n",
        "#We the the y to the dymmy variable 'above mean', meaning that this is what we want to predict. That means that the value 1, stand for true (above mean) and 0 for false (less than mean)\n",
        "y = instagram_data.loc[:, 'above mean']"
      ],
      "execution_count": 0,
      "outputs": []
    },
    {
      "cell_type": "code",
      "metadata": {
        "id": "mFuCemMuGpxg",
        "colab_type": "code",
        "outputId": "87280652-380b-481a-b9a2-b2196d6fac50",
        "colab": {
          "base_uri": "https://localhost:8080/",
          "height": 34
        }
      },
      "source": [
        "#then we normalize the data by scaling it: \n",
        "\n",
        "scaler = StandardScaler()\n",
        "\n",
        "data_scaled = StandardScaler().fit_transform(x)\n",
        "\n",
        "data_scaled.shape"
      ],
      "execution_count": 0,
      "outputs": [
        {
          "output_type": "execute_result",
          "data": {
            "text/plain": [
              "(10644, 3)"
            ]
          },
          "metadata": {
            "tags": []
          },
          "execution_count": 594
        }
      ]
    },
    {
      "cell_type": "code",
      "metadata": {
        "id": "hB093-lfG6SN",
        "colab_type": "code",
        "colab": {}
      },
      "source": [
        "#lastly before building the XGBoost model, we split the data into a training and a test set. Setting the size of the test set on 25 % \n",
        "\n",
        "x_train, x_test, y_train, y_test = train_test_split(data_scaled, y, test_size=0.25, random_state = 36)"
      ],
      "execution_count": 0,
      "outputs": []
    },
    {
      "cell_type": "markdown",
      "metadata": {
        "id": "D_dKxDqfHk7T",
        "colab_type": "text"
      },
      "source": [
        "step 2.2: building the XGBoost model: "
      ]
    },
    {
      "cell_type": "code",
      "metadata": {
        "id": "JiRrBf_RHwcm",
        "colab_type": "code",
        "outputId": "f7e4f542-7a8f-4191-f058-c1354ea96748",
        "colab": {
          "base_uri": "https://localhost:8080/",
          "height": 51
        }
      },
      "source": [
        "model = xgb.XGBClassifier()\n",
        "\n",
        "scores = cross_val_score(model, x_train, y_train, cv = 5)\n",
        "print(scores)\n",
        "\n",
        "# Model training\n",
        "model.fit(x_train, y_train)\n",
        "\n",
        "predictions = model.predict(x_test)\n",
        "\n",
        "# Model performance on the test-set\n",
        "print(model.score(x_test, y_test))"
      ],
      "execution_count": 0,
      "outputs": [
        {
          "output_type": "stream",
          "text": [
            "[0.79524108 0.81465247 0.80400751 0.79336255 0.79498433]\n",
            "0.8109733183013904\n"
          ],
          "name": "stdout"
        }
      ]
    },
    {
      "cell_type": "markdown",
      "metadata": {
        "id": "qnT6Bvy8IG8m",
        "colab_type": "text"
      },
      "source": [
        "In this model the mean accuracy is about 81 %. To get a deeper look into the we look into the performance of the model"
      ]
    },
    {
      "cell_type": "code",
      "metadata": {
        "id": "ngu9X16tDtLY",
        "colab_type": "code",
        "outputId": "fd74dce6-d67d-4b9c-f06b-b797ec25e1fd",
        "colab": {
          "base_uri": "https://localhost:8080/",
          "height": 170
        }
      },
      "source": [
        "#Performance evaluation of XGBoost \n",
        "y_pred = model.predict(x_test)\n",
        "\n",
        "print(classification_report(y_test, y_pred))"
      ],
      "execution_count": 0,
      "outputs": [
        {
          "output_type": "stream",
          "text": [
            "              precision    recall  f1-score   support\n",
            "\n",
            "           0       0.82      0.90      0.86      1697\n",
            "           1       0.79      0.65      0.71       964\n",
            "\n",
            "    accuracy                           0.81      2661\n",
            "   macro avg       0.80      0.78      0.79      2661\n",
            "weighted avg       0.81      0.81      0.81      2661\n",
            "\n"
          ],
          "name": "stdout"
        }
      ]
    },
    {
      "cell_type": "markdown",
      "metadata": {
        "id": "gcy9bbTII9L-",
        "colab_type": "text"
      },
      "source": [
        "In the performance evaluation we see that the model predicted 65 % of the likes above mean correct and 90 % of the likes less than mean correct.  \n",
        "\n",
        "We visualize this performance in a confusion plot: "
      ]
    },
    {
      "cell_type": "code",
      "metadata": {
        "id": "VJx6nCW4D6Ho",
        "colab_type": "code",
        "outputId": "49a6beb0-35c7-463b-b65b-12678f3df599",
        "colab": {
          "base_uri": "https://localhost:8080/",
          "height": 313
        }
      },
      "source": [
        "#confusion matrix of XGboost \n",
        "confmatrix = confusion_matrix(y_test,y_pred) \n",
        "\n",
        "\n",
        "plot_confusion_matrix(conf_mat=confmatrix,\n",
        "                                colorbar=True,\n",
        "                                show_absolute=True,\n",
        "                                show_normed=True)"
      ],
      "execution_count": 0,
      "outputs": [
        {
          "output_type": "execute_result",
          "data": {
            "text/plain": [
              "(<Figure size 432x288 with 2 Axes>,\n",
              " <matplotlib.axes._subplots.AxesSubplot at 0x7f4ceb755048>)"
            ]
          },
          "metadata": {
            "tags": []
          },
          "execution_count": 598
        },
        {
          "output_type": "display_data",
          "data": {
            "image/png": "[encoded data removed]",
            "text/plain": [
              "<Figure size 432x288 with 2 Axes>"
            ]
          },
          "metadata": {
            "tags": []
          }
        }
      ]
    },
    {
      "cell_type": "markdown",
      "metadata": {
        "id": "6LLsa_PjKFou",
        "colab_type": "text"
      },
      "source": [
        "The confusion matrix visualizes the above perfomance evaluation. \n",
        "On the x axis we see what the model predicted. 1 means it predicted the result as above mean, and 0 means that the model predicted the result less the mean. On the y axis we see the real label, again 1 for the above mean, and 0 for less than mean. \n",
        "\n",
        "This means that in the box where 1 meets on the x and y axis, we see that it predicted the posts with likes above mean correct in 65 % of the times and where 0 meets on the two axis we see that the model predicted 90 % correct of the posts the likes less than mean - just like the performance evaluation showed. \n",
        "\n",
        "The two other areas shows the percentages where the model predicted wrong.\n",
        "\n",
        "In conclusion it shows that the model is able to predict whether the number of likes is above or less than the mean (mostly in the cases where it is less) even though we did not see an direct link in the exploration of the variables. \n",
        "We are wondering if the tags attached to the posts has an influence on the likes. Therefore we now want to build a deep learning model, which can work with the tags to see if we the tags is a better prediction factor than the numeric or not. "
      ]
    },
    {
      "cell_type": "markdown",
      "metadata": {
        "id": "9Mda_cA2UWeV",
        "colab_type": "text"
      },
      "source": [
        "#Step 3: Building the Deep Learning model \n",
        "\n",
        "The deep learning model we want to build onto our base is LSTM. LSTM (Long Short-Term Memory) is a Recurrent Neural Network, where it learns from previous input what is the most important pieces of information and to select these. Explicitly, it ‘reads’ new input based on what it has learned from previous input. LSTM makes use of sequential data, wherefore it is ideal for types of text prediction, detection and generation, which is why we use it in this project."
      ]
    },
    {
      "cell_type": "markdown",
      "metadata": {
        "id": "R8u3evO8WsVI",
        "colab_type": "text"
      },
      "source": [
        "**3.1. Preparing the data for our LSTM model**\n",
        "\n",
        "To prepare the data, we use the tokenizer module from keras' library. The tokenizer module provides a lexical scanner for Python, where we turn the words into tokens and integers, making it possible for the model to read them. "
      ]
    },
    {
      "cell_type": "code",
      "metadata": {
        "id": "sRFsY_bSEDvi",
        "colab_type": "code",
        "colab": {}
      },
      "source": [
        "#we are using the tokenizer class to transform the texted tags to sequences \n",
        "vocabulary_size = 5000 #vocabulary_size indiciates the total of words \n",
        "tokenizer = Tokenizer(num_words = vocabulary_size)\n",
        "\n",
        "#fitting the tokenizer model on the tags. \n",
        "tokenizer.fit_on_texts(instagram_data['tags'])\n",
        "\n",
        "#Turning words into sequences \n",
        "sequences = tokenizer.texts_to_sequences(instagram_data['tags'])\n",
        "\n",
        "#The tags are now split into integer-sequences, and we now pad these seqeunces \n",
        "#together at a maxlength at 120 elements\n",
        "MAXLEN = 120\n",
        "X = pad_sequences(sequences, maxlen=MAXLEN)\n",
        "\n",
        "#again we set the y to the dummy variable 'above mean',\n",
        "# meaning that the value 1 indivcates above mean, and 0 less than mean\n",
        "y1 = instagram_data.loc[:, 'above mean']"
      ],
      "execution_count": 0,
      "outputs": []
    },
    {
      "cell_type": "code",
      "metadata": {
        "id": "DmsN45cgEFn9",
        "colab_type": "code",
        "colab": {}
      },
      "source": [
        "#As a last step we create an index to add when splitting the data \n",
        "indices = range(len(X))"
      ],
      "execution_count": 0,
      "outputs": []
    },
    {
      "cell_type": "code",
      "metadata": {
        "id": "4CaCfukuEIg1",
        "colab_type": "code",
        "colab": {}
      },
      "source": [
        "#Before building and training the network, we split the data to a train \n",
        "#and test dataset. \n",
        "#we add the indices here. This makes sure underrepresented categories are \n",
        "#weighed higher when training the network. \n",
        "X_train, X_test, y_train, y_test, index_train, index_test = train_test_split(X, y1, indices,  test_size=0.2)"
      ],
      "execution_count": 0,
      "outputs": []
    },
    {
      "cell_type": "markdown",
      "metadata": {
        "id": "P2FgUR_-hDFa",
        "colab_type": "text"
      },
      "source": [
        "**3.2. Creating the model**\n",
        "\n",
        "The first layer of the model is an embedding layer Embedding transforms the words (represented by integers) to meaningful vectors. Embedding vector length indicates the lenght of the vector each word/sequence is represented by. "
      ]
    },
    {
      "cell_type": "code",
      "metadata": {
        "id": "ZZrp1NXkEPlA",
        "colab_type": "code",
        "colab": {}
      },
      "source": [
        "embedding_vecor_length = 300 \n",
        "\n",
        "#Initializing the model as a sequential model \n",
        "model = Sequential() \n",
        "\n",
        "#Adding an input/embedding layer consisting of vocabulary size, \n",
        "#embedding vector length and input_length of the sequences at 120 \n",
        "model.add(Embedding(vocabulary_size, embedding_vecor_length, input_length=MAXLEN))\n",
        "model.add(SpatialDropout1D(0.1))\n",
        "\n",
        "#The next layer is the LSTM layer. Here 64 is indicated as the number of nodes\n",
        "# in the hidden LSTM layer\n",
        "model.add(LSTM(64)) \n",
        "\n",
        "#dropout helps prevent overfitting \n",
        "model.add(Dropout(0.2))\n",
        "\n",
        "#Batch normalization normalizes the the data \n",
        "model.add(BatchNormalization())\n",
        "\n",
        "#we use 'sigmoid' as activation function \n",
        "model.add(Dense(1, activation='sigmoid'))"
      ],
      "execution_count": 0,
      "outputs": []
    },
    {
      "cell_type": "markdown",
      "metadata": {
        "id": "_IFcz12HOEwb",
        "colab_type": "text"
      },
      "source": [
        "Now that the model is build we can compile it"
      ]
    },
    {
      "cell_type": "code",
      "metadata": {
        "id": "CWOLZhLbER1g",
        "colab_type": "code",
        "outputId": "83040165-101b-4cc6-ac05-7eedecb4225d",
        "colab": {
          "base_uri": "https://localhost:8080/",
          "height": 374
        }
      },
      "source": [
        "#we use 'binary crossentropy' as the loss because we are \n",
        "#working with a binary classification \n",
        "model.compile(loss='binary_crossentropy', optimizer='adam', metrics=['accuracy'])\n",
        "print(model.summary())\n",
        "\n",
        "#The sumary shows the structure of the network as designed above "
      ],
      "execution_count": 0,
      "outputs": [
        {
          "output_type": "stream",
          "text": [
            "Model: \"sequential_15\"\n",
            "_________________________________________________________________\n",
            "Layer (type)                 Output Shape              Param #   \n",
            "=================================================================\n",
            "embedding_15 (Embedding)     (None, 120, 300)          1500000   \n",
            "_________________________________________________________________\n",
            "spatial_dropout1d_15 (Spatia (None, 120, 300)          0         \n",
            "_________________________________________________________________\n",
            "lstm_15 (LSTM)               (None, 64)                93440     \n",
            "_________________________________________________________________\n",
            "dropout_15 (Dropout)         (None, 64)                0         \n",
            "_________________________________________________________________\n",
            "batch_normalization_15 (Batc (None, 64)                256       \n",
            "_________________________________________________________________\n",
            "dense_15 (Dense)             (None, 1)                 65        \n",
            "=================================================================\n",
            "Total params: 1,593,761\n",
            "Trainable params: 1,593,633\n",
            "Non-trainable params: 128\n",
            "_________________________________________________________________\n",
            "None\n"
          ],
          "name": "stdout"
        }
      ]
    },
    {
      "cell_type": "markdown",
      "metadata": {
        "id": "wzCcZa12Ojn0",
        "colab_type": "text"
      },
      "source": [
        "**3.3 Training the model** \n",
        "\n",
        "We can now train our model with the data. We set the batch size to 240 and epochs to 3, meaning that the training data is split in batches consisting of 240 observations each, and that the learning algorithm goes through all of these batches 3 times. Validation split indicates how much of the training data to be used asvalidation data. "
      ]
    },
    {
      "cell_type": "code",
      "metadata": {
        "id": "OTHsKLUgBNPe",
        "colab_type": "code",
        "outputId": "8b948fe5-8ca7-47f4-d9a1-788eba4d5b64",
        "colab": {
          "base_uri": "https://localhost:8080/",
          "height": 153
        }
      },
      "source": [
        "model.fit(X_train, y_train, epochs=3, batch_size=240, validation_split=0.1)"
      ],
      "execution_count": 0,
      "outputs": [
        {
          "output_type": "stream",
          "text": [
            "Train on 7663 samples, validate on 852 samples\n",
            "Epoch 1/3\n",
            "7663/7663 [==============================] - 14s 2ms/step - loss: 0.6474 - acc: 0.5966 - val_loss: 0.5501 - val_acc: 0.7077\n",
            "Epoch 2/3\n",
            "7663/7663 [==============================] - 8s 1ms/step - loss: 0.4993 - acc: 0.7175 - val_loss: 0.5439 - val_acc: 0.7113\n",
            "Epoch 3/3\n",
            "7663/7663 [==============================] - 8s 1ms/step - loss: 0.4467 - acc: 0.7407 - val_loss: 0.5818 - val_acc: 0.7101\n"
          ],
          "name": "stdout"
        },
        {
          "output_type": "execute_result",
          "data": {
            "text/plain": [
              "<keras.callbacks.History at 0x7f4ceb1f5a90>"
            ]
          },
          "metadata": {
            "tags": []
          },
          "execution_count": 604
        }
      ]
    },
    {
      "cell_type": "markdown",
      "metadata": {
        "id": "b2xdiKU8PRgO",
        "colab_type": "text"
      },
      "source": [
        "For the epochs we get an accuracy on respectively 62,5 %, 72 % and 70 % "
      ]
    },
    {
      "cell_type": "markdown",
      "metadata": {
        "id": "kNfqoYrWpA6X",
        "colab_type": "text"
      },
      "source": [
        "#4: Predicting on the model "
      ]
    },
    {
      "cell_type": "markdown",
      "metadata": {
        "id": "5NkSEV4QPPB2",
        "colab_type": "text"
      },
      "source": [
        "Now the model have been trained with the data and we can now elaborate how well it predicts."
      ]
    },
    {
      "cell_type": "code",
      "metadata": {
        "id": "4zAaVMZSBN7A",
        "colab_type": "code",
        "colab": {}
      },
      "source": [
        "#First we indicate how many tags we want a prediction of\n",
        "start = 0\n",
        "end = 50"
      ],
      "execution_count": 0,
      "outputs": []
    },
    {
      "cell_type": "code",
      "metadata": {
        "id": "SMHCS_xNBQeF",
        "colab_type": "code",
        "outputId": "c0aa1a35-ef8d-4efd-c5bd-a50b41163004",
        "colab": {
          "base_uri": "https://localhost:8080/",
          "height": 136
        }
      },
      "source": [
        "# Then we use the test data to predict \n",
        "y_pred = model.predict(X_test[start:end])\n",
        "\n",
        "y_pred = np.where(y_pred > 0.5, True, False)\n",
        "y_pred = [list(x) for x in y_pred]\n",
        "\n",
        "# We then define the real label which makes it possible to compare the \n",
        "#predicted tweets with the real.\n",
        "real_label = instagram_data['above mean'][index_test[start:end]]"
      ],
      "execution_count": 0,
      "outputs": [
        {
          "output_type": "stream",
          "text": [
            "/usr/local/lib/python3.6/dist-packages/pandas/core/series.py:1146: FutureWarning: \n",
            "Passing list-likes to .loc or [] with any missing label will raise\n",
            "KeyError in the future, you can use .reindex() as an alternative.\n",
            "\n",
            "See the documentation here:\n",
            "https://pandas.pydata.org/pandas-docs/stable/user_guide/indexing.html#deprecate-loc-reindex-listlike\n",
            "  return self.loc[key]\n"
          ],
          "name": "stderr"
        }
      ]
    },
    {
      "cell_type": "markdown",
      "metadata": {
        "id": "VbNJpW08QDlv",
        "colab_type": "text"
      },
      "source": [
        "We can now show the predicted labels and the real labels, making it easy to compare these"
      ]
    },
    {
      "cell_type": "code",
      "metadata": {
        "id": "Cm-6bW4YIe_S",
        "colab_type": "code",
        "outputId": "011a90f2-8f2c-4b2f-9ea8-a122e48a2156",
        "colab": {
          "base_uri": "https://localhost:8080/",
          "height": 1000
        }
      },
      "source": [
        "pd.DataFrame({'prediction':y_pred, 'real': real_label})"
      ],
      "execution_count": 0,
      "outputs": [
        {
          "output_type": "execute_result",
          "data": {
            "text/html": [
              "<div>\n",
              "<style scoped>\n",
              "    .dataframe tbody tr th:only-of-type {\n",
              "        vertical-align: middle;\n",
              "    }\n",
              "\n",
              "    .dataframe tbody tr th {\n",
              "        vertical-align: top;\n",
              "    }\n",
              "\n",
              "    .dataframe thead th {\n",
              "        text-align: right;\n",
              "    }\n",
              "</style>\n",
              "<table border=\"1\" class=\"dataframe\">\n",
              "  <thead>\n",
              "    <tr style=\"text-align: right;\">\n",
              "      <th></th>\n",
              "      <th>prediction</th>\n",
              "      <th>real</th>\n",
              "    </tr>\n",
              "  </thead>\n",
              "  <tbody>\n",
              "    <tr>\n",
              "      <th>5019</th>\n",
              "      <td>[True]</td>\n",
              "      <td>0.00</td>\n",
              "    </tr>\n",
              "    <tr>\n",
              "      <th>3758</th>\n",
              "      <td>[False]</td>\n",
              "      <td>nan</td>\n",
              "    </tr>\n",
              "    <tr>\n",
              "      <th>9037</th>\n",
              "      <td>[False]</td>\n",
              "      <td>0.00</td>\n",
              "    </tr>\n",
              "    <tr>\n",
              "      <th>3468</th>\n",
              "      <td>[False]</td>\n",
              "      <td>0.00</td>\n",
              "    </tr>\n",
              "    <tr>\n",
              "      <th>722</th>\n",
              "      <td>[False]</td>\n",
              "      <td>0.00</td>\n",
              "    </tr>\n",
              "    <tr>\n",
              "      <th>3787</th>\n",
              "      <td>[False]</td>\n",
              "      <td>1.00</td>\n",
              "    </tr>\n",
              "    <tr>\n",
              "      <th>604</th>\n",
              "      <td>[False]</td>\n",
              "      <td>1.00</td>\n",
              "    </tr>\n",
              "    <tr>\n",
              "      <th>627</th>\n",
              "      <td>[False]</td>\n",
              "      <td>nan</td>\n",
              "    </tr>\n",
              "    <tr>\n",
              "      <th>1566</th>\n",
              "      <td>[True]</td>\n",
              "      <td>1.00</td>\n",
              "    </tr>\n",
              "    <tr>\n",
              "      <th>3613</th>\n",
              "      <td>[True]</td>\n",
              "      <td>nan</td>\n",
              "    </tr>\n",
              "    <tr>\n",
              "      <th>2564</th>\n",
              "      <td>[False]</td>\n",
              "      <td>1.00</td>\n",
              "    </tr>\n",
              "    <tr>\n",
              "      <th>7310</th>\n",
              "      <td>[False]</td>\n",
              "      <td>0.00</td>\n",
              "    </tr>\n",
              "    <tr>\n",
              "      <th>7526</th>\n",
              "      <td>[True]</td>\n",
              "      <td>nan</td>\n",
              "    </tr>\n",
              "    <tr>\n",
              "      <th>3680</th>\n",
              "      <td>[False]</td>\n",
              "      <td>nan</td>\n",
              "    </tr>\n",
              "    <tr>\n",
              "      <th>1986</th>\n",
              "      <td>[False]</td>\n",
              "      <td>nan</td>\n",
              "    </tr>\n",
              "    <tr>\n",
              "      <th>1074</th>\n",
              "      <td>[True]</td>\n",
              "      <td>1.00</td>\n",
              "    </tr>\n",
              "    <tr>\n",
              "      <th>3854</th>\n",
              "      <td>[False]</td>\n",
              "      <td>0.00</td>\n",
              "    </tr>\n",
              "    <tr>\n",
              "      <th>7844</th>\n",
              "      <td>[False]</td>\n",
              "      <td>nan</td>\n",
              "    </tr>\n",
              "    <tr>\n",
              "      <th>7751</th>\n",
              "      <td>[True]</td>\n",
              "      <td>0.00</td>\n",
              "    </tr>\n",
              "    <tr>\n",
              "      <th>3669</th>\n",
              "      <td>[False]</td>\n",
              "      <td>nan</td>\n",
              "    </tr>\n",
              "    <tr>\n",
              "      <th>1582</th>\n",
              "      <td>[True]</td>\n",
              "      <td>1.00</td>\n",
              "    </tr>\n",
              "    <tr>\n",
              "      <th>9861</th>\n",
              "      <td>[False]</td>\n",
              "      <td>nan</td>\n",
              "    </tr>\n",
              "    <tr>\n",
              "      <th>8222</th>\n",
              "      <td>[False]</td>\n",
              "      <td>nan</td>\n",
              "    </tr>\n",
              "    <tr>\n",
              "      <th>2929</th>\n",
              "      <td>[False]</td>\n",
              "      <td>nan</td>\n",
              "    </tr>\n",
              "    <tr>\n",
              "      <th>8712</th>\n",
              "      <td>[False]</td>\n",
              "      <td>nan</td>\n",
              "    </tr>\n",
              "    <tr>\n",
              "      <th>6756</th>\n",
              "      <td>[False]</td>\n",
              "      <td>1.00</td>\n",
              "    </tr>\n",
              "    <tr>\n",
              "      <th>4883</th>\n",
              "      <td>[False]</td>\n",
              "      <td>1.00</td>\n",
              "    </tr>\n",
              "    <tr>\n",
              "      <th>3239</th>\n",
              "      <td>[False]</td>\n",
              "      <td>0.00</td>\n",
              "    </tr>\n",
              "    <tr>\n",
              "      <th>10615</th>\n",
              "      <td>[False]</td>\n",
              "      <td>1.00</td>\n",
              "    </tr>\n",
              "    <tr>\n",
              "      <th>1474</th>\n",
              "      <td>[True]</td>\n",
              "      <td>1.00</td>\n",
              "    </tr>\n",
              "    <tr>\n",
              "      <th>8806</th>\n",
              "      <td>[True]</td>\n",
              "      <td>1.00</td>\n",
              "    </tr>\n",
              "    <tr>\n",
              "      <th>237</th>\n",
              "      <td>[False]</td>\n",
              "      <td>1.00</td>\n",
              "    </tr>\n",
              "    <tr>\n",
              "      <th>662</th>\n",
              "      <td>[False]</td>\n",
              "      <td>nan</td>\n",
              "    </tr>\n",
              "    <tr>\n",
              "      <th>7186</th>\n",
              "      <td>[False]</td>\n",
              "      <td>nan</td>\n",
              "    </tr>\n",
              "    <tr>\n",
              "      <th>4356</th>\n",
              "      <td>[False]</td>\n",
              "      <td>nan</td>\n",
              "    </tr>\n",
              "    <tr>\n",
              "      <th>7403</th>\n",
              "      <td>[True]</td>\n",
              "      <td>1.00</td>\n",
              "    </tr>\n",
              "    <tr>\n",
              "      <th>8308</th>\n",
              "      <td>[False]</td>\n",
              "      <td>1.00</td>\n",
              "    </tr>\n",
              "    <tr>\n",
              "      <th>9824</th>\n",
              "      <td>[True]</td>\n",
              "      <td>1.00</td>\n",
              "    </tr>\n",
              "    <tr>\n",
              "      <th>9858</th>\n",
              "      <td>[False]</td>\n",
              "      <td>0.00</td>\n",
              "    </tr>\n",
              "    <tr>\n",
              "      <th>685</th>\n",
              "      <td>[False]</td>\n",
              "      <td>1.00</td>\n",
              "    </tr>\n",
              "    <tr>\n",
              "      <th>4550</th>\n",
              "      <td>[True]</td>\n",
              "      <td>nan</td>\n",
              "    </tr>\n",
              "    <tr>\n",
              "      <th>2852</th>\n",
              "      <td>[False]</td>\n",
              "      <td>1.00</td>\n",
              "    </tr>\n",
              "    <tr>\n",
              "      <th>9845</th>\n",
              "      <td>[False]</td>\n",
              "      <td>0.00</td>\n",
              "    </tr>\n",
              "    <tr>\n",
              "      <th>6226</th>\n",
              "      <td>[False]</td>\n",
              "      <td>nan</td>\n",
              "    </tr>\n",
              "    <tr>\n",
              "      <th>6727</th>\n",
              "      <td>[False]</td>\n",
              "      <td>1.00</td>\n",
              "    </tr>\n",
              "    <tr>\n",
              "      <th>4036</th>\n",
              "      <td>[False]</td>\n",
              "      <td>0.00</td>\n",
              "    </tr>\n",
              "    <tr>\n",
              "      <th>6901</th>\n",
              "      <td>[False]</td>\n",
              "      <td>nan</td>\n",
              "    </tr>\n",
              "    <tr>\n",
              "      <th>8654</th>\n",
              "      <td>[False]</td>\n",
              "      <td>0.00</td>\n",
              "    </tr>\n",
              "    <tr>\n",
              "      <th>6820</th>\n",
              "      <td>[True]</td>\n",
              "      <td>nan</td>\n",
              "    </tr>\n",
              "    <tr>\n",
              "      <th>9101</th>\n",
              "      <td>[False]</td>\n",
              "      <td>nan</td>\n",
              "    </tr>\n",
              "  </tbody>\n",
              "</table>\n",
              "</div>"
            ],
            "text/plain": [
              "      prediction  real\n",
              "5019      [True]  0.00\n",
              "3758     [False]   nan\n",
              "9037     [False]  0.00\n",
              "3468     [False]  0.00\n",
              "722      [False]  0.00\n",
              "3787     [False]  1.00\n",
              "604      [False]  1.00\n",
              "627      [False]   nan\n",
              "1566      [True]  1.00\n",
              "3613      [True]   nan\n",
              "2564     [False]  1.00\n",
              "7310     [False]  0.00\n",
              "7526      [True]   nan\n",
              "3680     [False]   nan\n",
              "1986     [False]   nan\n",
              "1074      [True]  1.00\n",
              "3854     [False]  0.00\n",
              "7844     [False]   nan\n",
              "7751      [True]  0.00\n",
              "3669     [False]   nan\n",
              "1582      [True]  1.00\n",
              "9861     [False]   nan\n",
              "8222     [False]   nan\n",
              "2929     [False]   nan\n",
              "8712     [False]   nan\n",
              "6756     [False]  1.00\n",
              "4883     [False]  1.00\n",
              "3239     [False]  0.00\n",
              "10615    [False]  1.00\n",
              "1474      [True]  1.00\n",
              "8806      [True]  1.00\n",
              "237      [False]  1.00\n",
              "662      [False]   nan\n",
              "7186     [False]   nan\n",
              "4356     [False]   nan\n",
              "7403      [True]  1.00\n",
              "8308     [False]  1.00\n",
              "9824      [True]  1.00\n",
              "9858     [False]  0.00\n",
              "685      [False]  1.00\n",
              "4550      [True]   nan\n",
              "2852     [False]  1.00\n",
              "9845     [False]  0.00\n",
              "6226     [False]   nan\n",
              "6727     [False]  1.00\n",
              "4036     [False]  0.00\n",
              "6901     [False]   nan\n",
              "8654     [False]  0.00\n",
              "6820      [True]   nan\n",
              "9101     [False]   nan"
            ]
          },
          "metadata": {
            "tags": []
          },
          "execution_count": 607
        }
      ]
    },
    {
      "cell_type": "markdown",
      "metadata": {
        "id": "X-7ZYk5LQTOd",
        "colab_type": "text"
      },
      "source": [
        "Lastly we run the final evaluation of the model"
      ]
    },
    {
      "cell_type": "code",
      "metadata": {
        "id": "m3aLY87pBXhn",
        "colab_type": "code",
        "outputId": "63e5f593-71c1-4f7e-b463-98825faaed5b",
        "colab": {
          "base_uri": "https://localhost:8080/",
          "height": 51
        }
      },
      "source": [
        "results = model.evaluate(X_test, y_test)\n",
        "print(\"The Loss and Accuracy:\", results)"
      ],
      "execution_count": 0,
      "outputs": [
        {
          "output_type": "stream",
          "text": [
            "2129/2129 [==============================] - 6s 3ms/step\n",
            "The Loss and Accuracy: [0.5936839776511705, 0.7050258338927327]\n"
          ],
          "name": "stdout"
        }
      ]
    },
    {
      "cell_type": "markdown",
      "metadata": {
        "id": "DudD-yQPQgHB",
        "colab_type": "text"
      },
      "source": [
        "Everytime we run the model we get a final accuracy between 68 and 74 %"
      ]
    },
    {
      "cell_type": "markdown",
      "metadata": {
        "id": "4FnywK6wh4S_",
        "colab_type": "text"
      },
      "source": [
        "#5: Conclusion\n",
        "\n",
        "In the end we have built a model which can predict whether an Instagram post will get above or under the average mean of likes (8316), depending on hashtags used. We saw that our baseline model had an accuracy of 83%, where our deep learning model had a lower accuracy of about 70 %. This is due to the baseline model only worked on numerical values and the deep learning model used a more complex data such as text. However, we still consider the deep learning model to be relatively valid enough within this context, since we see that the tags have influence on the likes.\n",
        "\n",
        "We noticed that the LSTM model have a relatively high accuracy compared to the table showing the predictions, where the predicitons does not look particulary good. These might have something to do with the NaN still being in the data, showed in table with predictions, even though we dropped all missing values doing the preprocessing of the data. These NaNs might have an influence on the result and cause sources of error in the result. \n",
        "\n",
        "We also see that the model predicts False very often. This could indicate, that it is the 'False' results that is predicted right. This was also the pattern we saw in the XGBoost model and might be due to the distibution of the samples in the categories. As shown when recoding number of likes to categories 65 % of the observations is placed in the categori 'less than mean' while only 35 % of the observations is placed in the categori 'above mean'. \n",
        "\n",
        "At last there is definitely room for improvement on this model. For a more realistic and accurate prediction it would be necessary to take images and time of posting into account as well. For the image analysis we suggest adding a CNN model layer (e.g. ResNet or VGG16), since it is great for these types of issues. Additionally, it would be necessary to collect more data as well to improve accuracy and the validity of the model. \n"
      ]
    }
  ]
}